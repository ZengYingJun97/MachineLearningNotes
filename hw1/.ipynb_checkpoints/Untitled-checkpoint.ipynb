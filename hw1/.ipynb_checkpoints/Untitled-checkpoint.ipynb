{
 "cells": [
  {
   "cell_type": "markdown",
   "id": "edd741aa-7b35-4e3e-bd9a-fdd05e8a1163",
   "metadata": {},
   "source": [
    "# Preprocessing\n",
    "将data/train.csv文件作为数据源，RAINFALL特殊数据NR设置为0。输入数据从第三列开始取，以便过滤字段名称和日期等。转化成numpy数据以便使用。"
   ]
  },
  {
   "cell_type": "code",
   "execution_count": null,
   "id": "efaab09a-ed14-412d-bd11-541ca6d06cb1",
   "metadata": {},
   "outputs": [],
   "source": [
    "data = pd.read_csv('./data/train.csv', encoding='big5')\n",
    "data = data.iloc[:, 3:]\n",
    "data[data == 'NR'] = 0\n",
    "input_data = data.to_numpy()"
   ]
  },
  {
   "cell_type": "markdown",
   "id": "c6d330f6-188b-45b6-bf23-c0e55c558f42",
   "metadata": {},
   "source": [
    "# Extract Features\n",
    "将数据以时间进行划分，从中获取九小时区间的输入数据，一小时区间的输出数据，即x，y。"
   ]
  },
  {
   "cell_type": "code",
   "execution_count": null,
   "id": "81d5f50b-d1fe-4706-bc92-71e45b44bcda",
   "metadata": {},
   "outputs": [],
   "source": [
    "month_data = {}\n",
    "for month in range(12):\n",
    "    temp = np.empty([18, 480])\n",
    "    for day in range(20):\n",
    "        temp[:, day * 24 : (day + 1) * 24] = input_data[(month * 20 + day) * 18 : (month * 20 + day + 1) * 18, :]\n",
    "    month_data[month] = temp\n",
    "x = np.empty([12 * 471, 18 * 9], dtype=float)\n",
    "y = np.empty([12 * 471, 1], dtype=float)\n",
    "for month in range(12):\n",
    "    for day in range(20):\n",
    "        for hour in range(24):\n",
    "            if hour > 14 and day == 19:\n",
    "                continue\n",
    "            x[month * 471 + day * 24 + hour, :] = month_data[month][:, day * 24 + hour : day * 24 + hour + 9].reshape(1, -1)\n",
    "            y[month * 471 + day * 24 + hour, 0] = month_data[month][9, day * 24 + hour + 9]"
   ]
  },
  {
   "cell_type": "markdown",
   "id": "45843f58-8d50-4d3a-9ac2-ad785ddc2bb7",
   "metadata": {},
   "source": [
    "# Normalize\n",
    "将输入数据标准化，即采用归一化公式。"
   ]
  },
  {
   "cell_type": "code",
   "execution_count": null,
   "id": "57b681a5-b8ca-4bec-95fe-dbeecb137e8d",
   "metadata": {},
   "outputs": [],
   "source": [
    "mean_x = np.mean(x, axis=0)\n",
    "std_x = np.std(x, axis=0)\n",
    "for i in range(len(x)):\n",
    "    for j in range(len(x[0])):\n",
    "        if std_x[j] != 0:\n",
    "            x[i][j] = (x[i][j] - mean_x[j]) / std_x[j]"
   ]
  },
  {
   "cell_type": "markdown",
   "id": "bb8ef75e-6820-4fdb-9ff5-603d6d07fb29",
   "metadata": {},
   "source": [
    "# Training\n",
    "此次训练模型采用多元一次函数，数据集仅是变量数据，因此需要添加常量变量。通过当前的预测函数计算预测值与y进行计算获得损失值，同时计算梯度下降步数，就可以获得新的预测方程。"
   ]
  },
  {
   "cell_type": "code",
   "execution_count": null,
   "id": "94aa970d-cd2d-440f-9d6e-160afd4597e2",
   "metadata": {},
   "outputs": [],
   "source": [
    "size = 18 * 9 + 1\n",
    "x_set = np.concatenate((np.ones([12 * 471, 1]), x), axis=1).astype(float)\n",
    "w_set = np.zeros([size, 1])\n",
    "learning_rate = 100\n",
    "iter_time = 1000\n",
    "adagrad = np.zeros([size, 1])\n",
    "eps = 0.000000001\n",
    "for t in range(iter_time):\n",
    "    pre_y = np.dot(x_set, w_set)\n",
    "    loss = np.sqrt(np.sum(np.power(pre_y - y, 2)) / (12 * 471))\n",
    "    gradient = 2 * np.dot(x_set.transpose(), pre_y - y)\n",
    "    adagrad += gradient ** 2\n",
    "    w_set = w_set - learning_rate * gradient / np.sqrt(adagrad + eps)"
   ]
  },
  {
   "cell_type": "markdown",
   "id": "57469547-b4e3-4491-90f7-af09660ebc6f",
   "metadata": {},
   "source": [
    "# Save\n",
    "保存训练后的预测模型数据。"
   ]
  },
  {
   "cell_type": "code",
   "execution_count": null,
   "id": "da566712-c1b0-4c88-94cf-72b9e5665e29",
   "metadata": {},
   "outputs": [],
   "source": [
    "np.save('weight.npy', w_set)\n",
    "np.save('mean.npy', mean_x)\n",
    "np.save('std.npy', std_x)"
   ]
  },
  {
   "cell_type": "markdown",
   "id": "a5b7f5b4-73fe-431d-8f43-9413ec90766a",
   "metadata": {},
   "source": [
    "# Testing\n",
    "加载测试集，提取特征值，与训练相同的标准化。"
   ]
  },
  {
   "cell_type": "code",
   "execution_count": null,
   "id": "d42f65d3-8546-4449-89b9-50d9f924a382",
   "metadata": {},
   "outputs": [],
   "source": [
    "inputFileName = sys.argv[1]\n",
    "testData = pd.read_csv(inputFileName, header=None, encoding='big5')\n",
    "testData = testData.iloc[:, 2:]\n",
    "testData[testData == 'NR'] = 0\n",
    "test_data = testData.to_numpy()\n",
    "test_x = np.empty([240, 18 * 9], dtype=float)\n",
    "for i in range(240):\n",
    "    test_x[i, :] = test_data[18 * i : 18 * (i + 1), :].reshape(1, -1)\n",
    "for i in range(len(test_x)):\n",
    "    for j in range(len(test_x[0])):\n",
    "        if std_x[j] != 0:\n",
    "            test_x[i][j] = (test_x[i][j] - mean_x[j]) / std_x[j]\n",
    "test_x = np.concatenate((np.ones([240, 1]), test_x), axis=1).astype(float)\n",
    "ans_y = np.dot(test_x, w_set)"
   ]
  },
  {
   "cell_type": "markdown",
   "id": "c43bd4a4-8cec-4b2a-8528-5c86c7affd87",
   "metadata": {},
   "source": [
    "# Ans\n",
    "保存测试答案。"
   ]
  },
  {
   "cell_type": "code",
   "execution_count": null,
   "id": "e1406d2f-d1c1-477b-893c-197837f7dc41",
   "metadata": {},
   "outputs": [],
   "source": [
    "outputFileName = sys.argv[2]\n",
    "with open(outputFileName, mode='w', newline='') as ans_file:\n",
    "    csv_writer = csv.writer(ans_file)\n",
    "    header = ['id', 'value']\n",
    "    csv_writer.writerow(header)\n",
    "    for i in range(240):\n",
    "        csv_writer.writerow(['id_' + str(i), ans_y[i][0]])"
   ]
  }
 ],
 "metadata": {
  "kernelspec": {
   "display_name": "Python 3",
   "language": "python",
   "name": "python3"
  },
  "language_info": {
   "codemirror_mode": {
    "name": "ipython",
    "version": 3
   },
   "file_extension": ".py",
   "mimetype": "text/x-python",
   "name": "python",
   "nbconvert_exporter": "python",
   "pygments_lexer": "ipython3",
   "version": "3.8.8"
  }
 },
 "nbformat": 4,
 "nbformat_minor": 5
}
